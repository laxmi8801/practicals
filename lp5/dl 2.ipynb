{
 "cells": [
  {
   "cell_type": "code",
   "execution_count": 1,
   "id": "6314fd40",
   "metadata": {},
   "outputs": [],
   "source": [
    "import numpy as np\n",
    "from tensorflow.keras.models import Sequential\n",
    "from tensorflow.keras.layers import Dense, Dropout\n",
    "from tensorflow.keras.optimizers import RMSprop\n",
    "from tensorflow.keras.datasets import mnist\n",
    "import matplotlib.pyplot as plt\n"
   ]
  },
  {
   "cell_type": "code",
   "execution_count": 2,
   "id": "0c0e12be",
   "metadata": {},
   "outputs": [
    {
     "name": "stdout",
     "output_type": "stream",
     "text": [
      "Downloading data from https://storage.googleapis.com/tensorflow/tf-keras-datasets/mnist.npz\n",
      "11490434/11490434 [==============================] - 3s 0us/step\n"
     ]
    }
   ],
   "source": [
    "(x_train, y_train), (x_test, y_test) = mnist.load_data()\n"
   ]
  },
  {
   "cell_type": "code",
   "execution_count": 3,
   "id": "bc9c2194",
   "metadata": {},
   "outputs": [
    {
     "data": {
      "image/png": "[encoded data removed]",
      "text/plain": [
       "<Figure size 432x288 with 1 Axes>"
      ]
     },
     "metadata": {
      "needs_background": "light"
     },
     "output_type": "display_data"
    }
   ],
   "source": [
    "plt.imshow(x_train[0], cmap='gray') # imshow() function which simply displays an image.\n",
    "plt.show() "
   ]
  },
  {
   "cell_type": "code",
   "execution_count": 4,
   "id": "01889eae",
   "metadata": {},
   "outputs": [
    {
     "name": "stdout",
     "output_type": "stream",
     "text": [
      "X_train shape (60000, 28, 28)\n",
      "y_train shape (60000,)\n",
      "X_test shape (10000, 28, 28)\n",
      "y_test shape (10000,)\n"
     ]
    }
   ],
   "source": [
    "print(\"X_train shape\", x_train.shape)\n",
    "print(\"y_train shape\", y_train.shape)\n",
    "print(\"X_test shape\", x_test.shape)\n",
    "print(\"y_test shape\", y_test.shape)\n"
   ]
  },
  {
   "cell_type": "code",
   "execution_count": 6,
   "id": "96da2760",
   "metadata": {},
   "outputs": [],
   "source": [
    "x_train = x_train.reshape(60000, 784)\n",
    "x_test = x_test.reshape(10000, 784)\n",
    "x_train = x_train.astype('float32') \n",
    "x_test = x_test.astype('float32')\n",
    "x_train /= 255 # Each image has Intensity from 0 to 255\n",
    "x_test /= 255\n"
   ]
  },
  {
   "cell_type": "code",
   "execution_count": 7,
   "id": "386c3609",
   "metadata": {},
   "outputs": [],
   "source": [
    "num_classes = 10\n",
    "y_train = np.eye(num_classes)[y_train] \n",
    "y_test = np.eye(num_classes)[y_test] "
   ]
  },
  {
   "cell_type": "code",
   "execution_count": 9,
   "id": "50258d27",
   "metadata": {},
   "outputs": [],
   "source": [
    "model = Sequential()\n",
    "model.add(Dense(512, activation='relu', input_shape=(784,)))\n",
    "model.add(Dropout(0.2))\n",
    "model.add(Dense(512, activation='relu')) #returns a sequence of another vectors of dimension 512\n",
    "model.add(Dropout(0.2))\n",
    "model.add(Dense(num_classes, activation='softmax'))"
   ]
  },
  {
   "cell_type": "code",
   "execution_count": 10,
   "id": "3c8bbbee",
   "metadata": {},
   "outputs": [
    {
     "name": "stdout",
     "output_type": "stream",
     "text": [
      "Epoch 1/20\n",
      "469/469 [==============================] - 10s 20ms/step - loss: 0.2534 - accuracy: 0.9222 - val_loss: 0.1271 - val_accuracy: 0.9594\n",
      "Epoch 2/20\n",
      "469/469 [==============================] - 10s 20ms/step - loss: 0.1052 - accuracy: 0.9675 - val_loss: 0.0853 - val_accuracy: 0.9735\n",
      "Epoch 3/20\n",
      "469/469 [==============================] - 9s 20ms/step - loss: 0.0745 - accuracy: 0.9769 - val_loss: 0.0746 - val_accuracy: 0.9783\n",
      "Epoch 4/20\n",
      "469/469 [==============================] - 10s 21ms/step - loss: 0.0585 - accuracy: 0.9814 - val_loss: 0.0635 - val_accuracy: 0.9814\n",
      "Epoch 5/20\n",
      "469/469 [==============================] - 8s 17ms/step - loss: 0.0477 - accuracy: 0.9841 - val_loss: 0.0678 - val_accuracy: 0.9820\n",
      "Epoch 6/20\n",
      "469/469 [==============================] - 9s 19ms/step - loss: 0.0398 - accuracy: 0.9873 - val_loss: 0.0651 - val_accuracy: 0.9823\n",
      "Epoch 7/20\n",
      "469/469 [==============================] - 8s 18ms/step - loss: 0.0341 - accuracy: 0.9892 - val_loss: 0.0594 - val_accuracy: 0.9836\n",
      "Epoch 8/20\n",
      "469/469 [==============================] - 8s 17ms/step - loss: 0.0292 - accuracy: 0.9903 - val_loss: 0.0621 - val_accuracy: 0.9844\n",
      "Epoch 9/20\n",
      "469/469 [==============================] - 8s 16ms/step - loss: 0.0253 - accuracy: 0.9920 - val_loss: 0.0635 - val_accuracy: 0.9839\n",
      "Epoch 10/20\n",
      "469/469 [==============================] - 8s 18ms/step - loss: 0.0225 - accuracy: 0.9921 - val_loss: 0.0748 - val_accuracy: 0.9819\n",
      "Epoch 11/20\n",
      "469/469 [==============================] - 9s 19ms/step - loss: 0.0217 - accuracy: 0.9930 - val_loss: 0.0700 - val_accuracy: 0.9842\n",
      "Epoch 12/20\n",
      "469/469 [==============================] - 9s 18ms/step - loss: 0.0174 - accuracy: 0.9940 - val_loss: 0.0808 - val_accuracy: 0.9839\n",
      "Epoch 13/20\n",
      "469/469 [==============================] - 8s 17ms/step - loss: 0.0173 - accuracy: 0.9945 - val_loss: 0.0734 - val_accuracy: 0.9842\n",
      "Epoch 14/20\n",
      "469/469 [==============================] - 9s 19ms/step - loss: 0.0153 - accuracy: 0.9949 - val_loss: 0.0723 - val_accuracy: 0.9852\n",
      "Epoch 15/20\n",
      "469/469 [==============================] - 9s 20ms/step - loss: 0.0145 - accuracy: 0.9954 - val_loss: 0.0751 - val_accuracy: 0.9840\n",
      "Epoch 16/20\n",
      "469/469 [==============================] - 9s 20ms/step - loss: 0.0139 - accuracy: 0.9956 - val_loss: 0.0707 - val_accuracy: 0.9863\n",
      "Epoch 17/20\n",
      "469/469 [==============================] - 9s 20ms/step - loss: 0.0119 - accuracy: 0.9959 - val_loss: 0.0807 - val_accuracy: 0.9851\n",
      "Epoch 18/20\n",
      "469/469 [==============================] - 8s 18ms/step - loss: 0.0118 - accuracy: 0.9963 - val_loss: 0.0815 - val_accuracy: 0.9833\n",
      "Epoch 19/20\n",
      "469/469 [==============================] - 8s 17ms/step - loss: 0.0116 - accuracy: 0.9961 - val_loss: 0.0925 - val_accuracy: 0.9823\n",
      "Epoch 20/20\n",
      "469/469 [==============================] - 11s 23ms/step - loss: 0.0100 - accuracy: 0.9969 - val_loss: 0.0915 - val_accuracy: 0.9842\n"
     ]
    }
   ],
   "source": [
    "model.compile(loss='categorical_crossentropy', # for a multi-class classification problem\n",
    "optimizer=RMSprop(),\n",
    "metrics=['accuracy'])\n",
    "# Train the model\n",
    "batch_size = 128 # batch_size argument is passed to the layer to define a batch size for the inputs.\n",
    "epochs = 20\n",
    "history = model.fit(x_train, y_train,\n",
    "batch_size=batch_size,\n",
    "epochs=epochs,\n",
    "verbose=1, validation_data=(x_test, y_test)) #"
   ]
  },
  {
   "cell_type": "code",
   "execution_count": 11,
   "id": "58ba7d0d",
   "metadata": {},
   "outputs": [
    {
     "name": "stdout",
     "output_type": "stream",
     "text": [
      "Test loss: 0.09151685237884521\n",
      "Test accuracy: 0.9842000007629395\n"
     ]
    }
   ],
   "source": [
    "score = model.evaluate(x_test, y_test, verbose=0)\n",
    "print('Test loss:', score[0])\n",
    "print('Test accuracy:', score[1])"
   ]
  },
  {
   "cell_type": "code",
   "execution_count": null,
   "id": "c6dac7b4",
   "metadata": {},
   "outputs": [],
   "source": []
  }
 ],
 "metadata": {
  "kernelspec": {
   "display_name": "Python 3 (ipykernel)",
   "language": "python",
   "name": "python3"
  },
  "language_info": {
   "codemirror_mode": {
    "name": "ipython",
    "version": 3
   },
   "file_extension": ".py",
   "mimetype": "text/x-python",
   "name": "python",
   "nbconvert_exporter": "python",
   "pygments_lexer": "ipython3",
   "version": "3.10.2"
  }
 },
 "nbformat": 4,
 "nbformat_minor": 5
}
